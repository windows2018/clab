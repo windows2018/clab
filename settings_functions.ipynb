{
  "nbformat": 4,
  "nbformat_minor": 0,
  "metadata": {
    "colab": {
      "name": "settings_functions.ipynb",
      "provenance": [],
      "collapsed_sections": [],
      "include_colab_link": true
    },
    "kernelspec": {
      "name": "python3",
      "display_name": "Python 3"
    }
  },
  "cells": [
    {
      "cell_type": "markdown",
      "metadata": {
        "id": "view-in-github",
        "colab_type": "text"
      },
      "source": [
        "<a href=\"https://colab.research.google.com/github/windows2018/clab/blob/master/settings_functions.ipynb\" target=\"_parent\"><img src=\"https://colab.research.google.com/assets/colab-badge.svg\" alt=\"Open In Colab\"/></a>"
      ]
    },
    {
      "cell_type": "markdown",
      "metadata": {
        "id": "nu3EtJX7VdD8",
        "colab_type": "text"
      },
      "source": [
        "## Colabの各設定と様々な機能\n",
        "Google Colaboratoryの各設定と様々な機能を解説します。"
      ]
    },
    {
      "cell_type": "code",
      "metadata": {
        "id": "75LnS5fhfeaM",
        "colab_type": "code",
        "colab": {}
      },
      "source": [
        "from IPython.display import Image\n",
        "try:\n",
        "  filename = take_photo()\n",
        "  print('Saved to {}'.format(filename))\n",
        "  \n",
        "  # Show the image which was just taken.\n",
        "  display(Image(filename))\n",
        "except Exception as err:\n",
        "  # Errors will be thrown if the user does not have a webcam or if they do not\n",
        "  # grant the page permission to access it.\n",
        "  print(str(err))"
      ],
      "execution_count": 0,
      "outputs": []
    },
    {
      "cell_type": "markdown",
      "metadata": {
        "id": "pD_iADQHVmrz",
        "colab_type": "text"
      },
      "source": [
        "## ●セッションの管理\n",
        "ランタイム → セッションの管理で現在のセッションの一覧が表示されます。"
      ]
    },
    {
      "cell_type": "markdown",
      "metadata": {
        "id": "fbKm_vIXWKfk",
        "colab_type": "text"
      },
      "source": [
        "## ●Pythonのバージョン選択\n",
        "編集 → ノートブックの設定でPython2かPython3のどちらかを選択することができます。"
      ]
    },
    {
      "cell_type": "markdown",
      "metadata": {
        "id": "G5xcg63eYIVo",
        "colab_type": "text"
      },
      "source": [
        "## ●スクラッチコードセル\n",
        "挿入 → スクラッチコードセルにより、簡単なコードを書いて試せるセルが出現します。"
      ]
    },
    {
      "cell_type": "markdown",
      "metadata": {
        "id": "2lBU2WVoZOcP",
        "colab_type": "text"
      },
      "source": [
        "## ●コードスニペット\n",
        "挿入 → コードスニペットにより様々なコードのスニペットをノートブックに挿入することができます。"
      ]
    },
    {
      "cell_type": "markdown",
      "metadata": {
        "id": "c6BT46yRZm6t",
        "colab_type": "text"
      },
      "source": [
        "## ●コードの実行履歴\n",
        "表示 → コードの実行履歴により、コードの実行履歴を確認することができます。"
      ]
    },
    {
      "cell_type": "markdown",
      "metadata": {
        "id": "UeKLv4g8Z1N_",
        "colab_type": "text"
      },
      "source": [
        "他にも、Google Colaboratoryは様々な便利な機能を持っています。"
      ]
    }
  ]
}